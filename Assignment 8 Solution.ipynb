{
 "cells": [
  {
   "cell_type": "markdown",
   "id": "4d3f0011",
   "metadata": {},
   "source": [
    "# Assignment No. 8"
   ]
  },
  {
   "cell_type": "markdown",
   "id": "f460d848",
   "metadata": {},
   "source": [
    "#Question No. 1:- Is the Python Standard Library included with PyInputPlus?\n",
    "\n",
    "Ans-\n",
    "PyInputPlus is not a part of the Python Standard Library, so you must install it separately using Pip"
   ]
  },
  {
   "cell_type": "markdown",
   "id": "c4f96a57",
   "metadata": {},
   "source": [
    "#Question No. 2:- Why is PyInputPlus commonly imported with import pyinputplus as pypi?\n",
    "\n",
    "Ans-\n",
    " pypi is alias of PyInputPlus. The as pyip code in the import statement saves us from typing pyinputplus each time we want to call a PyInputPlus function. Instead we can use the shorter pyip name"
   ]
  },
  {
   "cell_type": "markdown",
   "id": "cfb2374b",
   "metadata": {},
   "source": [
    "#Question No. 3:- How do you distinguish between inputInt() and inputFloat()?\n",
    "\n",
    "Ans-\n",
    "\n",
    "inputInt() : Accepts an integer value, and returns int value\n",
    "\n",
    "inputFloat() : Accepts integer/floating point value and returns float value"
   ]
  },
  {
   "cell_type": "markdown",
   "id": "8099a71d",
   "metadata": {},
   "source": [
    "#Question No. 4:- Using PyInputPlus, how do you ensure that the user enters a whole number between 0 and 99?\n",
    "\n",
    "Ans-\n",
    "In the inputint function we can set the min = 0 and max =99 to ensure user enters number between 0 and 99"
   ]
  },
  {
   "cell_type": "markdown",
   "id": "1a20dc66",
   "metadata": {},
   "source": [
    "#Question No. 5:- What is transferred to the keyword arguments allowRegexes and blockRegexes?\n",
    "\n",
    "Ans-\n",
    "We can also use regular expressions to specify whether an input is allowed or not. The allowRegexes and blockRegexes keyword arguments take a list of regular expression strings to determine what the PyInputPlus function will accept or reject as valid input."
   ]
  },
  {
   "cell_type": "markdown",
   "id": "0bdac973",
   "metadata": {},
   "source": [
    "#Question No. 6:- If a blank input is entered three times, what does inputStr(limit=3) do?\n",
    "\n",
    "Ans-\n",
    " It will throw RetryLimitException exception."
   ]
  },
  {
   "cell_type": "markdown",
   "id": "07662d2b",
   "metadata": {},
   "source": [
    "#Question No. 7:- If blank input is entered three times, what does inputStr(limit=3, default='hello') do?\n",
    "\n",
    "Ans-\n",
    "When you use limit keyword arguments and also pass a default keyword argument, the function returns the default value instead of raising an exception"
   ]
  },
  {
   "cell_type": "code",
   "execution_count": null,
   "id": "d5134428",
   "metadata": {},
   "outputs": [],
   "source": []
  }
 ],
 "metadata": {
  "kernelspec": {
   "display_name": "Python 3 (ipykernel)",
   "language": "python",
   "name": "python3"
  },
  "language_info": {
   "codemirror_mode": {
    "name": "ipython",
    "version": 3
   },
   "file_extension": ".py",
   "mimetype": "text/x-python",
   "name": "python",
   "nbconvert_exporter": "python",
   "pygments_lexer": "ipython3",
   "version": "3.9.7"
  }
 },
 "nbformat": 4,
 "nbformat_minor": 5
}
